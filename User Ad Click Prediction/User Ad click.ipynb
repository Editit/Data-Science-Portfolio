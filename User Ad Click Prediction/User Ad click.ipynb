{
 "cells": [
  {
   "cell_type": "markdown",
   "metadata": {
    "colab_type": "text",
    "id": "gUw5K5fUSKG5"
   },
   "source": []
  },
  {
   "cell_type": "markdown",
   "metadata": {
    "colab_type": "text",
    "id": "ue2tPXjVSEY1"
   },
   "source": [
    "#  WNS Analytics Wizard 2019 CONTEST"
   ]
  },
  {
   "cell_type": "markdown",
   "metadata": {
    "colab_type": "text",
    "id": "RgMJjK5qSEY3"
   },
   "source": [
    "**AIM** : To predict whether the ad will be clicked by the user who enters into Partner websites, using the Ad data and the persons history on the ZAP website."
   ]
  },
  {
   "cell_type": "code",
   "execution_count": null,
   "metadata": {
    "colab": {
     "base_uri": "https://localhost:8080/",
     "height": 70
    },
    "colab_type": "code",
    "id": "xkymqAHFSEY3",
    "outputId": "1bd26b16-a936-45b5-e0cb-546fba24bc74"
   },
   "outputs": [],
   "source": [
    "# importing the needed libraries\n",
    "import pandas as pd\n",
    "import numpy as np\n",
    "from matplotlib import pyplot as plt\n",
    "from sklearn.model_selection import train_test_split\n",
    "from sklearn import metrics\n",
    "import lightgbm\n",
    "from sklearn.preprocessing import LabelEncoder\n",
    "from collections import defaultdict\n",
    "from imblearn.over_sampling import RandomOverSampler\n",
    "import warnings\n",
    "import seaborn as sns\n",
    "warnings.filterwarnings(\"ignore\")\n",
    "pd.set_option('display.max_rows', 500)\n",
    "pd.set_option('display.max_columns', 500)\n",
    "pd.set_option('display.width', 1000)"
   ]
  },
  {
   "cell_type": "code",
   "execution_count": null,
   "metadata": {
    "colab": {
     "base_uri": "https://localhost:8080/",
     "height": 34
    },
    "colab_type": "code",
    "id": "AiMv1L0YSh-9",
    "outputId": "b86ba62f-84af-4ee3-82af-0f7da68185a3"
   },
   "outputs": [],
   "source": [
    "!ls \"/content/drive/My Drive/Hackathon/train\""
   ]
  },
  {
   "cell_type": "code",
   "execution_count": null,
   "metadata": {
    "colab": {},
    "colab_type": "code",
    "id": "uHNRvw0GSEY6"
   },
   "outputs": [],
   "source": [
    "# Loading the Train and Test Files.\n",
    "train = pd.read_csv(\"/content/drive/My Drive/Hackathon/train/train.csv\")\n",
    "item = pd.read_csv(\"/content/drive/My Drive/Hackathon/train/item_data.csv\")\n",
    "view_log = pd.read_csv(\"/content/drive/My Drive/Hackathon/train/view_log.csv\")\n",
    "test = pd.read_csv(\"/content/drive/My Drive/Hackathon/test/test.csv\")"
   ]
  },
  {
   "cell_type": "code",
   "execution_count": null,
   "metadata": {
    "colab": {
     "base_uri": "https://localhost:8080/",
     "height": 196
    },
    "colab_type": "code",
    "id": "dFtZXuacSEY8",
    "outputId": "501089af-906f-44d0-bc58-1babe1acb011"
   },
   "outputs": [],
   "source": [
    "#Viewing Train Data\n",
    "train.head()"
   ]
  },
  {
   "cell_type": "code",
   "execution_count": null,
   "metadata": {
    "colab": {
     "base_uri": "https://localhost:8080/",
     "height": 196
    },
    "colab_type": "code",
    "id": "M15h41YFSEY_",
    "outputId": "d2d3a7d7-e05c-4788-e6e1-ee030689a1c5"
   },
   "outputs": [],
   "source": [
    "view_log.head()"
   ]
  },
  {
   "cell_type": "code",
   "execution_count": null,
   "metadata": {
    "colab": {
     "base_uri": "https://localhost:8080/",
     "height": 196
    },
    "colab_type": "code",
    "id": "YmbGOfclSEZH",
    "outputId": "c31a94a7-9ed9-4aff-cc6b-46cb75505e00"
   },
   "outputs": [],
   "source": [
    "item.head()"
   ]
  },
  {
   "cell_type": "code",
   "execution_count": null,
   "metadata": {
    "colab": {
     "base_uri": "https://localhost:8080/",
     "height": 196
    },
    "colab_type": "code",
    "id": "YPwyJZslSEZJ",
    "outputId": "1c0a5673-9ee9-4ef3-f4be-a35ccb261a8a"
   },
   "outputs": [],
   "source": [
    "# Since the Log Data contains only item Id of product we will left join product attributes with User Log history to get a required dataset\n",
    "product_view_log = pd.merge(view_log, item, on=\"item_id\", how=\"left\")\n",
    "product_view_log.head()"
   ]
  },
  {
   "cell_type": "code",
   "execution_count": null,
   "metadata": {
    "colab": {
     "base_uri": "https://localhost:8080/",
     "height": 196
    },
    "colab_type": "code",
    "id": "0HUxiYzsSEZM",
    "outputId": "0aaa511b-0ca4-4da8-d1c7-6f35a0ad49c6"
   },
   "outputs": [],
   "source": [
    "# Visualizing how test data looks like.\n",
    "test.head()"
   ]
  },
  {
   "cell_type": "code",
   "execution_count": null,
   "metadata": {
    "colab": {
     "base_uri": "https://localhost:8080/",
     "height": 67
    },
    "colab_type": "code",
    "id": "nb9NJlecSEZO",
    "outputId": "a54c80d1-1f3c-4d6b-842e-32a5dfd54ea7",
    "scrolled": true
   },
   "outputs": [],
   "source": [
    "train['is_click'].value_counts()"
   ]
  },
  {
   "cell_type": "code",
   "execution_count": null,
   "metadata": {
    "colab": {
     "base_uri": "https://localhost:8080/",
     "height": 33
    },
    "colab_type": "code",
    "id": "MH3Bt-wdSEZQ",
    "outputId": "2fad4784-0897-4702-f790-252b88888a48"
   },
   "outputs": [],
   "source": [
    "print (\"Ad's clicked to Not clicked ratio is: \"+ str(train['is_click'].value_counts()[1]/train['is_click'].value_counts()[0]))"
   ]
  },
  {
   "cell_type": "markdown",
   "metadata": {
    "colab_type": "text",
    "id": "D_7MwTV0SEZS"
   },
   "source": [
    "Approximately 4.8% ads displayed were clicked, so what we have here is a imbalanced binary classification problem."
   ]
  },
  {
   "cell_type": "markdown",
   "metadata": {
    "colab_type": "text",
    "id": "VRC1oDYlSEZT"
   },
   "source": [
    "Checking Time Period of the Data"
   ]
  },
  {
   "cell_type": "code",
   "execution_count": null,
   "metadata": {
    "colab": {},
    "colab_type": "code",
    "id": "9xE9OSy-SEZU"
   },
   "outputs": [],
   "source": [
    "# Let us Convert the Dates into DateTime Object. \n",
    "product_view_log['server_time'] = pd.to_datetime(product_view_log['server_time'])\n",
    "train['impression_time'] = pd.to_datetime(train['impression_time'])\n",
    "test['impression_time'] = pd.to_datetime(test['impression_time'])"
   ]
  },
  {
   "cell_type": "code",
   "execution_count": null,
   "metadata": {
    "colab": {
     "base_uri": "https://localhost:8080/",
     "height": 50
    },
    "colab_type": "code",
    "id": "9MwJY4PASEZW",
    "outputId": "2396e063-c6c3-48c7-9388-e68eb2821dc5"
   },
   "outputs": [],
   "source": [
    "print (\"User Product logs are available from : \" + str(product_view_log['server_time'].min()) + \" to \" + str(product_view_log['server_time'].max()))\n",
    "print (\"Equivalent to \"+ str(product_view_log['server_time'].max()-product_view_log['server_time'].min()))"
   ]
  },
  {
   "cell_type": "code",
   "execution_count": null,
   "metadata": {
    "colab": {
     "base_uri": "https://localhost:8080/",
     "height": 50
    },
    "colab_type": "code",
    "id": "gMMiYekkSEZZ",
    "outputId": "de9e2248-27e0-403f-e64f-a6b08cfa7f26"
   },
   "outputs": [],
   "source": [
    "print (\"Train and test records are available from : \" + str(train['impression_time'].min()) + \" to \" + str(test['impression_time'].max()))\n",
    "print (\"Equivalent to \"+ str(test['impression_time'].max()-train['impression_time'].min()))"
   ]
  },
  {
   "cell_type": "code",
   "execution_count": null,
   "metadata": {
    "colab": {
     "base_uri": "https://localhost:8080/",
     "height": 50
    },
    "colab_type": "code",
    "id": "RjFqhAGcSEZb",
    "outputId": "93c9dfe5-4b48-42c3-b874-7369f2585d96"
   },
   "outputs": [],
   "source": [
    "print (\"Train records are available from : \" + str(train['impression_time'].min()) + \" to \" + str(train['impression_time'].max()))\n",
    "print (\"Equivalent to \"+ str(train['impression_time'].max()-train['impression_time'].min()))"
   ]
  },
  {
   "cell_type": "code",
   "execution_count": null,
   "metadata": {
    "colab": {
     "base_uri": "https://localhost:8080/",
     "height": 50
    },
    "colab_type": "code",
    "id": "6yeWH7q2SEZd",
    "outputId": "1d577e25-9e03-4f9c-f96c-7a35c276ffe2"
   },
   "outputs": [],
   "source": [
    "print (\"Test records are available from : \" + str(test['impression_time'].min()) + \" to \" + str(test['impression_time'].max()))\n",
    "print (\"Equivalent to \"+ str(test['impression_time'].max()-test['impression_time'].min()))"
   ]
  },
  {
   "cell_type": "markdown",
   "metadata": {
    "colab_type": "text",
    "id": "uHBjKztTSEZh"
   },
   "source": [
    "**Observations** <br>\n",
    "1) We have previous one month view history of users in the ZAP Website before making Predictions.<br>\n",
    "2) Training Data is 4 Weeks and Test Data is 1 Week."
   ]
  },
  {
   "cell_type": "markdown",
   "metadata": {
    "colab_type": "text",
    "id": "2MLd-Mc2SEZi"
   },
   "source": [
    "# Factors which present in Product View Log may influence the User Ad click.\n",
    "1) Temporal Factors:<br>\n",
    "&emsp;a) Time of the Day in which user enters the Partner Website - Both Hours and Parts of the Day <br>\n",
    "&emsp;&emsp;Morning <br>\n",
    "&emsp;&emsp;&emsp;&emsp;&emsp;Early morning     5 to 8 am <br>\n",
    "&emsp;&emsp;&emsp;&emsp;&emsp;Late morning      11 am to 12pm <br>\n",
    "&emsp;&emsp;Afternoon <br>\n",
    "&emsp;&emsp;&emsp;&emsp;&emsp;Early afternoon   1 to 3pm <br>\n",
    "&emsp;&emsp;&emsp;&emsp;&emsp;Late afternoon    4 to 5pm <br>\n",
    "&emsp;&emsp;Evening<br>\n",
    "&emsp;&emsp;&emsp;&emsp;&emsp;Early evening         5 to 7 pm <br>\n",
    "&emsp;&emsp;&emsp;&emsp;&emsp;Late evening          5 pm to 9 pm <br>\n",
    "&emsp;&emsp;Night                 9 pm to 4 am <br>\n",
    "&emsp;b) Number of times user visited the site in last 3 hours, 6 hours, 12 hours, 1 day, 2 days, 3 days, 1 week and 1 month.<br>\n",
    "&emsp;c) Number of products user viewed in the site for last 3 hours, 6 hours, 12 hours, 1 day, 2 days, 3 days, 1 week and 1 month.<br>\n",
    "&emsp;d) Number of products user viewed by the user in the last session<br> \n",
    "&emsp;e) Number of times user was shown the Ad and Number of times user clicked the Ad as Click Ratio of user<br> \n",
    "&emsp;f) Last 5 products viewed by the user by the time ad was shown. Product 1, Product 2, Product 3, Product 4, Product 5.<br> \n",
    "&emsp;g) Time spent by the user on a site for last 5 sessions as session1, session2, session3, session4, session5.<br> \n",
    "&emsp;h) Day of the Week & Weekend or not weekend<br> "
   ]
  },
  {
   "cell_type": "code",
   "execution_count": null,
   "metadata": {
    "colab": {
     "base_uri": "https://localhost:8080/",
     "height": 217
    },
    "colab_type": "code",
    "id": "P-UqO-ktSEZi",
    "outputId": "e301dd8b-a6dd-4cd9-deb2-bc4797e5d4ce"
   },
   "outputs": [],
   "source": [
    "train.info()"
   ]
  },
  {
   "cell_type": "code",
   "execution_count": null,
   "metadata": {
    "colab": {
     "base_uri": "https://localhost:8080/",
     "height": 201
    },
    "colab_type": "code",
    "id": "ysu09yykSEZl",
    "outputId": "34bef732-214c-45bc-fb81-f0029c8cd218"
   },
   "outputs": [],
   "source": [
    "test.info()"
   ]
  },
  {
   "cell_type": "code",
   "execution_count": null,
   "metadata": {
    "colab": {
     "base_uri": "https://localhost:8080/",
     "height": 184
    },
    "colab_type": "code",
    "id": "Ax5ddlxmSEZn",
    "outputId": "1953f088-a713-4f0a-ae06-9d236a44416b"
   },
   "outputs": [],
   "source": [
    "view_log.info(verbose=True, null_counts=True)"
   ]
  },
  {
   "cell_type": "code",
   "execution_count": null,
   "metadata": {
    "colab": {
     "base_uri": "https://localhost:8080/",
     "height": 201
    },
    "colab_type": "code",
    "id": "v-rS5CvkSEZv",
    "outputId": "93c6efba-c1d9-4894-ca70-752208463927"
   },
   "outputs": [],
   "source": [
    "item.info()"
   ]
  },
  {
   "cell_type": "code",
   "execution_count": null,
   "metadata": {
    "colab": {
     "base_uri": "https://localhost:8080/",
     "height": 268
    },
    "colab_type": "code",
    "id": "L190XchrSEZ6",
    "outputId": "731f5888-eaa7-4fca-ee13-b5c9c8d7752c"
   },
   "outputs": [],
   "source": [
    "product_view_log.info(verbose=True, null_counts=True)"
   ]
  },
  {
   "cell_type": "code",
   "execution_count": null,
   "metadata": {
    "colab": {
     "base_uri": "https://localhost:8080/",
     "height": 196
    },
    "colab_type": "code",
    "id": "vpjapQfkSEZ8",
    "outputId": "aca442d7-bbb0-415b-ca42-cab9e2cc5026"
   },
   "outputs": [],
   "source": [
    "product_view_log[product_view_log['product_type'].isnull()].head(5)"
   ]
  },
  {
   "cell_type": "code",
   "execution_count": null,
   "metadata": {
    "colab": {
     "base_uri": "https://localhost:8080/",
     "height": 251
    },
    "colab_type": "code",
    "id": "IrK_BTh0SEaB",
    "outputId": "28ca40f6-73fa-426b-969e-efd5bf289127"
   },
   "outputs": [],
   "source": [
    "print(\"Item Id's of Product Not Available and their Counts: \")\n",
    "product_view_log['item_id'][product_view_log['product_type'].isnull()].unique(), len(product_view_log['item_id'][product_view_log['product_type'].isnull()].unique())"
   ]
  },
  {
   "cell_type": "markdown",
   "metadata": {
    "colab_type": "text",
    "id": "W5T4MBBaSEaD"
   },
   "source": [
    "Product Attributes for 101 items when present in 1782 logs were unavialable"
   ]
  },
  {
   "cell_type": "code",
   "execution_count": null,
   "metadata": {
    "colab": {
     "base_uri": "https://localhost:8080/",
     "height": 84
    },
    "colab_type": "code",
    "id": "jZFeKErjSEaE",
    "outputId": "2c536288-aa09-45f7-c0fc-a30c85aeb8af"
   },
   "outputs": [],
   "source": [
    "product_view_log['server_time'][product_view_log['product_type'].isnull()].dt.month.value_counts()"
   ]
  },
  {
   "cell_type": "markdown",
   "metadata": {
    "colab_type": "text",
    "id": "iQBd3EPhSEaG"
   },
   "source": [
    "Since the Product information unavailablity is equal in all months with amount of data present in each month, We will not use this information while taking temporal features with Products."
   ]
  },
  {
   "cell_type": "code",
   "execution_count": null,
   "metadata": {
    "colab": {},
    "colab_type": "code",
    "id": "BbTvaJABSEaI"
   },
   "outputs": [],
   "source": [
    "product_view_log = product_view_log[product_view_log['product_type'].notnull()].reset_index(drop=True)"
   ]
  },
  {
   "cell_type": "markdown",
   "metadata": {
    "colab_type": "text",
    "id": "r6upfPFwSEaJ"
   },
   "source": [
    "**Let us Start Extracting the Derived Features.**"
   ]
  },
  {
   "cell_type": "markdown",
   "metadata": {
    "colab_type": "text",
    "id": "txACGNkZTBBF"
   },
   "source": [
    "Adding Part of the Day and Hour of the Day to Server time"
   ]
  },
  {
   "cell_type": "code",
   "execution_count": null,
   "metadata": {
    "colab": {
     "base_uri": "https://localhost:8080/",
     "height": 167
    },
    "colab_type": "code",
    "id": "Tymk9rjPS63G",
    "outputId": "a3f85902-e01f-40f7-cba9-62ffb0b26069"
   },
   "outputs": [],
   "source": [
    "product_view_log['Hour_of_the_day'] = product_view_log['server_time'].dt.hour\n",
    "product_view_log['Part_of_the_day'] = None\n",
    "product_view_log['Part_of_the_day'][(product_view_log['Hour_of_the_day']>=5)&(product_view_log['Hour_of_the_day']<=8)] = \"Early Morning\"\n",
    "product_view_log['Part_of_the_day'][(product_view_log['Hour_of_the_day']>=9)&(product_view_log['Hour_of_the_day']<=10)] = \"Middle Morning\"\n",
    "product_view_log['Part_of_the_day'][(product_view_log['Hour_of_the_day']>=11)&(product_view_log['Hour_of_the_day']<=12)] = \"Late Morning\"\n",
    "product_view_log['Part_of_the_day'][(product_view_log['Hour_of_the_day']>=13)&(product_view_log['Hour_of_the_day']<=15)] = \"Early Afternoon\"\n",
    "product_view_log['Part_of_the_day'][(product_view_log['Hour_of_the_day']>=16)&(product_view_log['Hour_of_the_day']<=17)] = \"Late Afternoon\"\n",
    "product_view_log['Part_of_the_day'][(product_view_log['Hour_of_the_day']>=18)&(product_view_log['Hour_of_the_day']<=19)] = \"Early Evening\"\n",
    "product_view_log['Part_of_the_day'][(product_view_log['Hour_of_the_day']>=20)&(product_view_log['Hour_of_the_day']<=21)] = \"Late Evening\"\n",
    "product_view_log['Part_of_the_day'][(product_view_log['Hour_of_the_day']>=22)|(product_view_log['Hour_of_the_day']<=4)] = \"Night\"\n",
    "product_view_log['Part_of_the_day'].value_counts()"
   ]
  },
  {
   "cell_type": "code",
   "execution_count": null,
   "metadata": {
    "colab": {},
    "colab_type": "code",
    "id": "9uMx49a_SEaK"
   },
   "outputs": [],
   "source": [
    "def product_session_counts(x, timespan_with_unit, count):\n",
    "    sessions = count\n",
    "    product_info_extraction_count = count\n",
    "    #print(x.impression_time, x.user_id, timespan, timespan_unit)\n",
    "    temp = product_view_log[product_view_log['user_id']==x.user_id]\n",
    "    session_count_with_time_list = []\n",
    "    category1_seen_count_with_time_list = []\n",
    "    category2_seen_count_with_time_list = []\n",
    "    category3_seen_count_with_time_list = []\n",
    "    product_type_seen_count_with_time_list = []\n",
    "    item_id_seen_count_with_time_list = []\n",
    "    category1_seen_count_with_session = []\n",
    "    category2_seen_count_with_session = []\n",
    "    category3_seen_count_with_session = []\n",
    "    product_type_seen_count_with_session = []\n",
    "    item_id_seen_count_with_session = []\n",
    "    average_price_of_product_with_session =[]\n",
    "    device_type_in_each_session = []\n",
    "    hour_of_the_day_each_session=[]\n",
    "    part_of_the_day_each_session=[]\n",
    "    time_spent_surfing_each_session=[]\n",
    "    last_visited_product_items = []\n",
    "    last_visited_product_types = []\n",
    "    last_visited_product_categories_1 = []\n",
    "    last_visited_product_categories_2 = []\n",
    "    last_visited_product_categories_3 = []\n",
    "    last_visited_product_prices = []\n",
    "    \n",
    "    \n",
    "    for timespan, timespan_unit in timespan_with_unit:\n",
    "        session_count_with_time_list.append(temp['session_id'][(temp['server_time']<x.impression_time)&(temp['server_time']>(x['impression_time'] - pd.to_timedelta(timespan, unit=timespan_unit)))].nunique())\n",
    "        category1_seen_count_with_time_list.append(temp['category_1'][(temp['server_time']<x.impression_time)&(temp['server_time']>(x['impression_time'] - pd.to_timedelta(timespan, unit=timespan_unit)))].nunique())\n",
    "        category2_seen_count_with_time_list.append(temp['category_2'][(temp['server_time']<x.impression_time)&(temp['server_time']>(x['impression_time'] - pd.to_timedelta(timespan, unit=timespan_unit)))].nunique())\n",
    "        category3_seen_count_with_time_list.append(temp['category_3'][(temp['server_time']<x.impression_time)&(temp['server_time']>(x['impression_time'] - pd.to_timedelta(timespan, unit=timespan_unit)))].nunique())\n",
    "        product_type_seen_count_with_time_list.append(temp['product_type'][(temp['server_time']<x.impression_time)&(temp['server_time']>(x['impression_time'] - pd.to_timedelta(timespan, unit=timespan_unit)))].nunique())\n",
    "        item_id_seen_count_with_time_list.append(temp['item_id'][(temp['server_time']<x.impression_time)&(temp['server_time']>(x['impression_time'] - pd.to_timedelta(timespan, unit=timespan_unit)))].nunique())\n",
    "    \n",
    "    temp = temp[temp['server_time']<x.impression_time]\n",
    "    temp.sort_values(by='server_time', inplace=True, ascending=False)\n",
    "    #print(temp['session_id'].unique()[0:sessions])\n",
    "    for i in temp['session_id'].unique()[0:sessions]:\n",
    "        category1_seen_count_with_session.append(temp['category_1'][temp['session_id']==i].nunique())\n",
    "        category2_seen_count_with_session.append(temp['category_2'][temp['session_id']==i].nunique())\n",
    "        category3_seen_count_with_session.append(temp['category_3'][temp['session_id']==i].nunique())\n",
    "        product_type_seen_count_with_session.append(temp['product_type'][temp['session_id']==i].nunique())\n",
    "        item_id_seen_count_with_session.append(temp['item_id'][temp['session_id']==i].nunique())\n",
    "        average_price_of_product_with_session.append(temp['item_id'][temp['session_id']==i].mean())\n",
    "        device_type_in_each_session.append(temp['device_type'][temp['session_id']==i].unique()[0])\n",
    "        hour_of_the_day_each_session.append(temp['Hour_of_the_day'][temp['session_id']==i].unique()[0])\n",
    "        part_of_the_day_each_session.append(temp['Part_of_the_day'][temp['session_id']==i].unique()[0])\n",
    "        time_spent_surfing_each_session.append(((temp['server_time'][temp['session_id']==i].max())-(temp['server_time'][temp['session_id']==i].min())).seconds)\n",
    "        \n",
    "    category1_seen_count_with_session = (category1_seen_count_with_session+([None]*sessions))[:sessions]\n",
    "    category2_seen_count_with_session = (category2_seen_count_with_session+([None]*sessions))[:sessions]\n",
    "    category3_seen_count_with_session = (category3_seen_count_with_session+([None]*sessions))[:sessions]\n",
    "    product_type_seen_count_with_session = (product_type_seen_count_with_session+([None]*sessions))[:sessions]\n",
    "    item_id_seen_count_with_session = (item_id_seen_count_with_session+([None]*sessions))[:sessions]\n",
    "    average_price_of_product_with_session = (average_price_of_product_with_session+([None]*sessions))[:sessions]\n",
    "    device_type_in_each_session = (device_type_in_each_session+([None]*sessions))[:sessions]\n",
    "    part_of_the_day_each_session = (part_of_the_day_each_session+([None]*sessions))[:sessions]\n",
    "    hour_of_the_day_each_session = (hour_of_the_day_each_session+([None]*sessions))[:sessions]\n",
    "    time_spent_surfing_each_session = (time_spent_surfing_each_session+([None]*sessions))[:sessions]\n",
    "    \n",
    "    # Last Visited Product Attribute Details\n",
    "    \n",
    "    last_visited_product_items = (temp['item_id'].unique().tolist()+([None]*product_info_extraction_count))[0:product_info_extraction_count]\n",
    "    last_visited_product_types = (temp['product_type'].unique().tolist()+([None]*product_info_extraction_count))[0:product_info_extraction_count]\n",
    "    last_visited_product_categories_1 = (temp['category_1'].unique().tolist()+([None]*product_info_extraction_count))[0:product_info_extraction_count]\n",
    "    last_visited_product_categories_2 = (temp['category_2'].unique().tolist()+([None]*product_info_extraction_count))[0:product_info_extraction_count]\n",
    "    last_visited_product_categories_3 = (temp['category_3'].unique().tolist()+([None]*product_info_extraction_count))[0:product_info_extraction_count]\n",
    "    last_visited_product_prices = (temp['item_price'].unique().tolist()+([None]*product_info_extraction_count))[0:product_info_extraction_count]\n",
    "    \n",
    "    return (session_count_with_time_list +  category1_seen_count_with_time_list + category2_seen_count_with_time_list + \n",
    "    category3_seen_count_with_time_list + product_type_seen_count_with_time_list + item_id_seen_count_with_time_list +\n",
    "    category1_seen_count_with_session + category2_seen_count_with_session + category3_seen_count_with_session + \n",
    "    product_type_seen_count_with_session + item_id_seen_count_with_session + average_price_of_product_with_session +\n",
    "    device_type_in_each_session + hour_of_the_day_each_session + part_of_the_day_each_session + \n",
    "    time_spent_surfing_each_session + last_visited_product_items + last_visited_product_types +\n",
    "    last_visited_product_categories_1 + last_visited_product_categories_2 + last_visited_product_categories_3 +\n",
    "    last_visited_product_prices)"
   ]
  },
  {
   "cell_type": "code",
   "execution_count": null,
   "metadata": {
    "colab": {
     "base_uri": "https://localhost:8080/",
     "height": 33
    },
    "colab_type": "code",
    "id": "oNEQzrMNSEaM",
    "outputId": "9e1af913-897c-4029-940c-5721a3b9598a"
   },
   "outputs": [],
   "source": [
    "train.shape"
   ]
  },
  {
   "cell_type": "code",
   "execution_count": null,
   "metadata": {
    "colab": {},
    "colab_type": "code",
    "id": "5ry88ylbSEaQ"
   },
   "outputs": [],
   "source": [
    "%%time\n",
    "#Number of times user visited the site in last 3 hours, 6 hours, 12 hours, 1 day, 2 days, 3 days, 1 week and 30 days.\n",
    "\n",
    "column_list=['site_visit_count_last_3_hours', 'site_visit_count_last_6_hours',\n",
    "            'site_visit_count__last_12_hours', 'site_visit_count_last_1_day',\n",
    "            'site_visit_count_last_2_days', 'site_visit_count_last_3_days',\n",
    "            'site_visit_count_last_1_week', 'site_visit_count_last_1_month',\n",
    "            'category1_seen_count_last_3_hours', 'category1_seen_count_last_6_hours',\n",
    "            'category1_seen_count__last_12_hours', 'category1_seen_count_last_1_day',\n",
    "            'category1_seen_count_last_2_days', 'category1_seen_count_last_3_days',\n",
    "            'category1_seen_count_last_1_week', 'category1_seen_count_last_1_month',\n",
    "            'category2_seen_count_last_3_hours', 'category2_seen_count_last_6_hours',\n",
    "            'category2_seen_count__last_12_hours', 'category2_seen_count_last_1_day',\n",
    "            'category2_seen_count_last_2_days', 'category2_seen_count_last_3_days',\n",
    "            'category2_seen_count_last_1_week', 'category2_seen_count_last_1_month',\n",
    "            'category3_seen_count_last_3_hours', 'category3_seen_count_last_6_hours',\n",
    "            'category3_seen_count__last_12_hours', 'category3_seen_count_last_1_day',\n",
    "            'category3_seen_count_last_2_days', 'category3_seen_count_last_3_days',\n",
    "            'category3_seen_count_last_1_week', 'category3_seen_count_last_1_month',\n",
    "            'product_type_seen_count_last_3_hours', 'product_type_seen_count_last_6_hours',\n",
    "            'product_type_seen_count__last_12_hours', 'product_type_seen_count_last_1_day',\n",
    "            'product_type_seen_count_last_2_days', 'product_type_seen_count_last_3_days',\n",
    "            'product_type_seen_count_last_1_week', 'product_type_seen_count_last_1_month',\n",
    "            'product_item_seen_count_last_3_hours', 'product_item_seen_count_last_6_hours',\n",
    "            'product_item_seen_count__last_12_hours', 'product_item_seen_count_last_1_day',\n",
    "            'product_item_seen_count_last_2_days', 'product_item_seen_count_last_3_days',\n",
    "            'product_item_seen_count_last_1_week', 'product_item_seen_count_last_1_month',\n",
    "            'category1_seen_count_with_session1', 'category1_seen_count_with_session2',\n",
    "            'category1_seen_count_with_session3', 'category1_seen_count_with_session4', \n",
    "            'category1_seen_count_with_session5', 'category2_seen_count_with_session1',\n",
    "            'category2_seen_count_with_session2', 'category2_seen_count_with_session3',\n",
    "            'category2_seen_count_with_session4', 'category2_seen_count_with_session5',\n",
    "            'category3_seen_count_with_session1', 'category3_seen_count_with_session2',\n",
    "            'category3_seen_count_with_session3', 'category3_seen_count_with_session4', \n",
    "            'category3_seen_count_with_session5', 'product_type_seen_count_with_session1',\n",
    "            'product_type_seen_count_with_session2', 'product_type_seen_count_with_session3',\n",
    "            'product_type_seen_count_with_session4', 'product_type_seen_count_with_session5',\n",
    "            'item_id_seen_count_with_session1', 'item_id_seen_count_with_session2',\n",
    "            'item_id_seen_count_with_session3', 'item_id_seen_count_with_session4', \n",
    "            'item_id_seen_count_with_session5', 'average_price_of_product_seen_count_with_session1',\n",
    "            'average_price_of_product_seen_count_with_session2', 'average_price_of_product_seen_count_with_session3',\n",
    "            'average_price_of_product_seen_count_with_session4', 'average_price_of_product_seen_count_with_session5',\n",
    "            'device_type_seen_count_with_session1', 'device_type_seen_count_with_session2',\n",
    "            'device_type_seen_count_with_session3', 'device_type_seen_count_with_session4', \n",
    "            'device_type_seen_count_with_session5', 'hour_of_the_day_seen_count_with_session1',\n",
    "            'hour_of_the_day_seen_count_with_session2', 'hour_of_the_day_seen_count_with_session3',\n",
    "            'hour_of_the_day_seen_count_with_session4', 'hour_of_the_day_seen_count_with_session5',\n",
    "            'part_of_the_day_seen_count_with_session1', 'part_of_the_day_seen_count_with_session2',\n",
    "            'part_of_the_day_seen_count_with_session3', 'part_of_the_day_seen_count_with_session4', \n",
    "            'part_of_the_day_seen_count_with_session5', 'time_spent_surfing_each_session_with_session1',\n",
    "            'time_spent_surfing_each_session_with_session2', 'time_spent_surfing_each_session_with_session3',\n",
    "            'time_spent_surfing_each_session_with_session4', 'time_spent_surfing_each_session_with_session5',\n",
    "            'last_visited_product_item1', 'last_visited_product_item2',\n",
    "            'last_visited_product_item3', 'last_visited_product_item4', \n",
    "            'last_visited_product_item5', 'last_visited_product_type1',\n",
    "            'last_visited_product_type2', 'last_visited_product_type3',\n",
    "            'last_visited_product_type4', 'last_visited_product_type5',\n",
    "            'last_visited_product_category1_1', 'last_visited_product_category1_2',\n",
    "            'last_visited_product_category1_3', 'last_visited_product_category1_4', \n",
    "            'last_visited_product_category1_5', 'last_visited_product_category2_1',\n",
    "            'last_visited_product_category2_2', 'last_visited_product_category2_3',\n",
    "            'last_visited_product_category2_4', 'last_visited_product_category2_5',\n",
    "            'last_visited_product_category3_1', 'last_visited_product_category3_2',\n",
    "            'last_visited_product_category3_3', 'last_visited_product_category3_4', \n",
    "            'last_visited_product_category3_5', 'last_visited_product_price_1',\n",
    "            'last_visited_product_price_2', 'last_visited_product_price_3',\n",
    "            'last_visited_product_price_4', 'last_visited_product_price_5']\n",
    "\n",
    "#Train\n",
    "user_visited_count_train_df = train[['impression_time','user_id']].apply(lambda x: product_session_counts(x, [(3,\"h\"), (6, \"h\"), (12, \"h\"), (1, \"d\") ,(2, \"d\"), (3, \"d\"), (7, \"d\"), (30, \"d\")], 5 ), axis=1)\n",
    "user_visited_count_train_df = (pd.DataFrame(user_visited_count_train_df.values.tolist()))\n",
    "user_visited_count_train_df.columns = column_list\n",
    "train_a = pd.merge(train, user_visited_count_train_df, left_index=True, right_index=True)\n",
    "train_a.to_csv(\"/content/drive/My Drive/Hackathon/train/train_check1.csv\", index=False)"
   ]
  },
  {
   "cell_type": "code",
   "execution_count": null,
   "metadata": {
    "colab": {},
    "colab_type": "code",
    "id": "ANOLxuthfooU"
   },
   "outputs": [],
   "source": [
    "train_a.head()"
   ]
  },
  {
   "cell_type": "code",
   "execution_count": null,
   "metadata": {
    "colab": {},
    "colab_type": "code",
    "id": "vcUCrKwVUChF"
   },
   "outputs": [],
   "source": [
    "#Test\n",
    "user_visited_count_test_df = test[['impression_time','user_id']].apply(lambda x: product_session_counts(x, [(3,\"h\"), (6, \"h\"), (12, \"h\"), (1, \"d\") ,(2, \"d\"), (3, \"d\"), (7, \"d\"), (30, \"d\")], 5 ), axis=1)\n",
    "user_visited_count_test_df = (pd.DataFrame(user_visited_count_test_df.values.tolist()))\n",
    "user_visited_count_test_df.columns = column_list\n",
    "test_a = pd.merge(test, user_visited_count_test_df, left_index=True, right_index=True)\n",
    "test_a.to_csv(\"/content/drive/My Drive/Hackathon/test/test_check1.csv\", index=False)"
   ]
  },
  {
   "cell_type": "code",
   "execution_count": null,
   "metadata": {
    "colab": {},
    "colab_type": "code",
    "id": "Mnrn6PXOVmzO"
   },
   "outputs": [],
   "source": [
    "train = pd.read_csv(\"/content/drive/My Drive/Hackathon/train/train_check1.csv\")\n",
    "test = pd.read_csv(\"/content/drive/My Drive/Hackathon/test/test_check1.csv\")"
   ]
  },
  {
   "cell_type": "code",
   "execution_count": null,
   "metadata": {
    "colab": {
     "base_uri": "https://localhost:8080/",
     "height": 1000
    },
    "colab_type": "code",
    "id": "c6Zq39wgkkYN",
    "outputId": "80609cb2-b41b-47e9-a96a-1670b9a478ef"
   },
   "outputs": [],
   "source": [
    "train.info(verbose=True, null_counts=True)"
   ]
  },
  {
   "cell_type": "code",
   "execution_count": null,
   "metadata": {
    "colab": {
     "base_uri": "https://localhost:8080/",
     "height": 1000
    },
    "colab_type": "code",
    "id": "2qTYDCjekocU",
    "outputId": "ff24fb10-d682-4744-f772-5346d4200f61"
   },
   "outputs": [],
   "source": [
    "test.info(verbose=True, null_counts=True)"
   ]
  },
  {
   "cell_type": "code",
   "execution_count": null,
   "metadata": {
    "colab": {
     "base_uri": "https://localhost:8080/",
     "height": 1000
    },
    "colab_type": "code",
    "id": "gs6HWSr0krtj",
    "outputId": "d1544244-ab86-4f4e-8da1-58038dc7ef39"
   },
   "outputs": [],
   "source": [
    "train._get_numeric_data().fillna(-99, inplace=True)\n",
    "train.fillna(\"NOTAVAILABLE\", inplace=True)\n",
    "train.info(verbose=True, null_counts=True)"
   ]
  },
  {
   "cell_type": "code",
   "execution_count": null,
   "metadata": {
    "colab": {
     "base_uri": "https://localhost:8080/",
     "height": 1000
    },
    "colab_type": "code",
    "id": "2ZyShYgQfMGv",
    "outputId": "48e1142c-19a6-4634-f1e2-1d276e76b79e"
   },
   "outputs": [],
   "source": [
    "test._get_numeric_data().fillna(-99, inplace=True)\n",
    "test.fillna(\"NOTAVAILABLE\", inplace=True)\n",
    "test.info(verbose=True, null_counts=True)"
   ]
  },
  {
   "cell_type": "code",
   "execution_count": null,
   "metadata": {
    "colab": {
     "base_uri": "https://localhost:8080/",
     "height": 167
    },
    "colab_type": "code",
    "id": "amkjJDcyf0Xc",
    "outputId": "a1f53226-24df-4568-f5a0-a94a937d7810"
   },
   "outputs": [],
   "source": [
    "train['impression_time'] = pd.to_datetime(train['impression_time'])\n",
    "train['Hour_of_the_day'] = train['impression_time'].dt.hour\n",
    "train['Part_of_the_day'] = None\n",
    "train['Part_of_the_day'][(train['Hour_of_the_day']>=5)&(train['Hour_of_the_day']<=8)] = \"Early Morning\"\n",
    "train['Part_of_the_day'][(train['Hour_of_the_day']>=9)&(train['Hour_of_the_day']<=10)] = \"Middle Morning\"\n",
    "train['Part_of_the_day'][(train['Hour_of_the_day']>=11)&(train['Hour_of_the_day']<=12)] = \"Late Morning\"\n",
    "train['Part_of_the_day'][(train['Hour_of_the_day']>=13)&(train['Hour_of_the_day']<=15)] = \"Early Afternoon\"\n",
    "train['Part_of_the_day'][(train['Hour_of_the_day']>=16)&(train['Hour_of_the_day']<=17)] = \"Late Afternoon\"\n",
    "train['Part_of_the_day'][(train['Hour_of_the_day']>=18)&(train['Hour_of_the_day']<=19)] = \"Early Evening\"\n",
    "train['Part_of_the_day'][(train['Hour_of_the_day']>=20)&(train['Hour_of_the_day']<=21)] = \"Late Evening\"\n",
    "train['Part_of_the_day'][(train['Hour_of_the_day']>=22)|(train['Hour_of_the_day']<=4)] = \"Night\"\n",
    "train['Part_of_the_day'].value_counts()"
   ]
  },
  {
   "cell_type": "code",
   "execution_count": null,
   "metadata": {
    "colab": {
     "base_uri": "https://localhost:8080/",
     "height": 167
    },
    "colab_type": "code",
    "id": "QgWyIthCfImN",
    "outputId": "9fd97618-39a6-491c-a8b4-1fa6440b3b02"
   },
   "outputs": [],
   "source": [
    "test['impression_time'] = pd.to_datetime(test['impression_time'])\n",
    "test['Hour_of_the_day'] = test['impression_time'].dt.hour\n",
    "test['Part_of_the_day'] = None\n",
    "test['Part_of_the_day'][(test['Hour_of_the_day']>=5)&(test['Hour_of_the_day']<=8)] = \"Early Morning\"\n",
    "test['Part_of_the_day'][(test['Hour_of_the_day']>=9)&(test['Hour_of_the_day']<=10)] = \"Middle Morning\"\n",
    "test['Part_of_the_day'][(test['Hour_of_the_day']>=11)&(test['Hour_of_the_day']<=12)] = \"Late Morning\"\n",
    "test['Part_of_the_day'][(test['Hour_of_the_day']>=13)&(test['Hour_of_the_day']<=15)] = \"Early Afternoon\"\n",
    "test['Part_of_the_day'][(test['Hour_of_the_day']>=16)&(test['Hour_of_the_day']<=17)] = \"Late Afternoon\"\n",
    "test['Part_of_the_day'][(test['Hour_of_the_day']>=18)&(test['Hour_of_the_day']<=19)] = \"Early Evening\"\n",
    "test['Part_of_the_day'][(test['Hour_of_the_day']>=20)&(test['Hour_of_the_day']<=21)] = \"Late Evening\"\n",
    "test['Part_of_the_day'][(test['Hour_of_the_day']>=22)|(test['Hour_of_the_day']<=4)] = \"Night\"\n",
    "test['Part_of_the_day'].value_counts()"
   ]
  },
  {
   "cell_type": "code",
   "execution_count": null,
   "metadata": {
    "colab": {},
    "colab_type": "code",
    "id": "byNKbIDWfxo_"
   },
   "outputs": [],
   "source": [
    "train['Day_Of_Week'] = train['impression_time'].dt.dayofweek\n",
    "train['Weekend'] = 0\n",
    "train['Weekend'][train['Day_Of_Week'].isin([5,6])] = 1\n",
    "train['Day'] = train['impression_time'].dt.day\n",
    "test['Day_Of_Week'] = train['impression_time'].dt.dayofweek\n",
    "test['Weekend'] = 0\n",
    "test['Weekend'][test['Day_Of_Week'].isin([5,6])] = 1\n",
    "test['Day'] = test['impression_time'].dt.day"
   ]
  },
  {
   "cell_type": "code",
   "execution_count": null,
   "metadata": {
    "colab": {
     "base_uri": "https://localhost:8080/",
     "height": 1000
    },
    "colab_type": "code",
    "id": "PF-KoPReoDQz",
    "outputId": "bd1ffcf7-5624-4da6-c1ad-5ad0edcb8745"
   },
   "outputs": [],
   "source": [
    "train._get_numeric_data().fillna(-99, inplace=True)\n",
    "train.fillna(\"NOTAVAILABLE\", inplace=True)\n",
    "train.info(verbose=True, null_counts=True)\n",
    "test._get_numeric_data().fillna(-99, inplace=True)\n",
    "test.fillna(\"NOTAVAILABLE\", inplace=True)\n",
    "test.info(verbose=True, null_counts=True)"
   ]
  },
  {
   "cell_type": "code",
   "execution_count": null,
   "metadata": {
    "colab": {
     "base_uri": "https://localhost:8080/",
     "height": 420
    },
    "colab_type": "code",
    "id": "5MAUrAGegMUM",
    "outputId": "cf75ad43-d068-438e-b9f0-9ddc9cf1f946"
   },
   "outputs": [],
   "source": [
    "# Extract Click Ratio Per User\n",
    "\n",
    "temp1 = train[['user_id', 'is_click']][~train['impression_time'].dt.day.isin([7,8,9,10,11,12,13])].groupby('user_id').is_click.count().reset_index(name='TotalAdShown')\n",
    "temp2 = train[['user_id', 'is_click']][~train['impression_time'].dt.day.isin([7,8,9,10,11,12,13])].groupby('user_id').is_click.sum().reset_index(name='TotalAdClicked')\n",
    "temp=pd.merge(temp1, temp2, on='user_id', how='left')\n",
    "temp.info(verbose=True, null_counts=True)\n",
    "temp['Click_Ratio']=temp['TotalAdClicked']/temp['TotalAdShown']\n",
    "TotalAdShown=temp.TotalAdShown.sum()\n",
    "TotalAdClicked=temp.TotalAdClicked.sum()\n",
    "Avg_Add_Clicked=TotalAdClicked/TotalAdShown\n",
    "temp['Expected_Click']=temp['TotalAdShown']*Avg_Add_Clicked\n",
    "temp['Normalized_Click_Ratio']=(temp['TotalAdClicked']-temp['Expected_Click'])/(temp['Expected_Click'] ** 0.5)\n",
    "train['Normalized_Click_Ratio'] = train['user_id'].map(temp[['user_id', 'Normalized_Click_Ratio']].set_index(\"user_id\").to_dict()['Normalized_Click_Ratio'])\n",
    "train['Normalized_Click_Ratio'].fillna(train['Normalized_Click_Ratio'].mean(), inplace=True)\n",
    "train['Normalized_Click_Ratio'].plot.hist()"
   ]
  },
  {
   "cell_type": "code",
   "execution_count": null,
   "metadata": {
    "colab": {
     "base_uri": "https://localhost:8080/",
     "height": 420
    },
    "colab_type": "code",
    "id": "jndmWkYigb8c",
    "outputId": "44c6394c-4e64-4303-9ef9-737c26390382"
   },
   "outputs": [],
   "source": [
    "# Extract Click Ratio Per App\n",
    "\n",
    "temp1 = train[['app_code', 'is_click']][~train['impression_time'].dt.day.isin([7,8,9,10,11,12,13])].groupby('app_code').is_click.count().reset_index(name='TotalAdShown')\n",
    "temp2 = train[['app_code', 'is_click']][~train['impression_time'].dt.day.isin([7,8,9,10,11,12,13])].groupby('app_code').is_click.sum().reset_index(name='TotalAdClicked')\n",
    "temp=pd.merge(temp1, temp2, on='app_code', how='left')\n",
    "temp.info(verbose=True, null_counts=True)\n",
    "temp['Click_Ratio']=temp['TotalAdClicked']/temp['TotalAdShown']\n",
    "TotalAdShown=temp.TotalAdShown.sum()\n",
    "TotalAdClicked=temp.TotalAdClicked.sum()\n",
    "Avg_Add_Clicked=TotalAdClicked/TotalAdShown\n",
    "temp['Expected_Click']=temp['TotalAdShown']*Avg_Add_Clicked\n",
    "temp['Normalized_Click_Ratio']=(temp['TotalAdClicked']-temp['Expected_Click'])/(temp['Expected_Click'] ** 0.5)\n",
    "train['Normalized_Click_Ratio_app'] = train['app_code'].map(temp[['app_code', 'Normalized_Click_Ratio']].set_index(\"app_code\").to_dict()['Normalized_Click_Ratio'])\n",
    "train['Normalized_Click_Ratio_app'].fillna(train['Normalized_Click_Ratio'].mean(), inplace=True)\n",
    "train['Normalized_Click_Ratio_app'].plot.hist()"
   ]
  },
  {
   "cell_type": "code",
   "execution_count": null,
   "metadata": {
    "colab": {},
    "colab_type": "code",
    "id": "z9u-XJ2nhwHR"
   },
   "outputs": [],
   "source": [
    "train_backup = train.copy()\n",
    "test_backup= test.copy()"
   ]
  },
  {
   "cell_type": "code",
   "execution_count": null,
   "metadata": {
    "colab": {},
    "colab_type": "code",
    "id": "jgKgX7cghuQ7"
   },
   "outputs": [],
   "source": [
    "del train['impression_id']\n",
    "del train['impression_time']"
   ]
  },
  {
   "cell_type": "code",
   "execution_count": null,
   "metadata": {
    "colab": {
     "base_uri": "https://localhost:8080/",
     "height": 1000
    },
    "colab_type": "code",
    "id": "8qPe2sY7iGSm",
    "outputId": "9a72cb81-bc49-4bb3-ef09-d6f6b5a78ade"
   },
   "outputs": [],
   "source": [
    "# For Checking Correlations\n",
    "\n",
    "def get_redundant_pairs(df):\n",
    "    '''Get diagonal and lower triangular pairs of correlation matrix'''\n",
    "    pairs_to_drop = set()\n",
    "    cols = df.columns\n",
    "    for i in range(0, df.shape[1]):\n",
    "        for j in range(0, i+1):\n",
    "            pairs_to_drop.add((cols[i], cols[j]))\n",
    "    return pairs_to_drop\n",
    "\n",
    "def get_top_abs_correlations(df, n=5):\n",
    "    au_corr = df.corr().abs().unstack()\n",
    "    labels_to_drop = get_redundant_pairs(df)\n",
    "    au_corr = au_corr.drop(labels=labels_to_drop).sort_values(ascending=False)\n",
    "    return au_corr[0:n]\n",
    "\n",
    "print(\"Top Absolute Correlations\")\n",
    "print(get_top_abs_correlations(train[train.loc[:, train.dtypes != np.object].columns], 500))"
   ]
  },
  {
   "cell_type": "code",
   "execution_count": null,
   "metadata": {
    "colab": {},
    "colab_type": "code",
    "id": "cmL2MkPBiMg3"
   },
   "outputs": [],
   "source": [
    "# Encoding Categorical Variables into Numerical Variables.\n",
    "\n",
    "d = defaultdict(LabelEncoder)\n",
    "Numerical_Columns = train.describe().columns.to_list()\n",
    "Categorical_columns = list(set(train.columns.to_list()) - set(Numerical_Columns))\n",
    "train[Categorical_columns] = train[Categorical_columns].apply(lambda x: d[x.name].fit_transform(x))"
   ]
  },
  {
   "cell_type": "code",
   "execution_count": null,
   "metadata": {
    "colab": {},
    "colab_type": "code",
    "id": "6BEZ9aEoi1RN"
   },
   "outputs": [],
   "source": [
    "X_train = train.drop(['is_click','Day'],axis=1)[~train['Day'].isin([12,13])]\n",
    "y_train = train['is_click'][~train['Day'].isin([12,13])]"
   ]
  },
  {
   "cell_type": "code",
   "execution_count": null,
   "metadata": {
    "colab": {},
    "colab_type": "code",
    "id": "ZKMhIGhZjAyn"
   },
   "outputs": [],
   "source": [
    "columns=X_train.columns.to_list()\n",
    "smt=RandomOverSampler()\n",
    "X_train, y_train = smt.fit_sample(X_train, y_train)\n",
    "X_train=pd.DataFrame(X_train,columns=columns)\n",
    "y_train=pd.DataFrame(y_train,columns=['target'])"
   ]
  },
  {
   "cell_type": "code",
   "execution_count": null,
   "metadata": {
    "colab": {},
    "colab_type": "code",
    "id": "EV3zpnw4j1E8"
   },
   "outputs": [],
   "source": [
    "X_test = train.drop(['is_click','Day'],axis=1)[train['Day'].isin([12,13])]\n",
    "y_test = train['is_click'][train['Day'].isin([12,13])]"
   ]
  },
  {
   "cell_type": "code",
   "execution_count": null,
   "metadata": {
    "colab": {},
    "colab_type": "code",
    "id": "6OsiDm2vocGS"
   },
   "outputs": [],
   "source": [
    "x_val, x_test, y_val, y_test1 = train_test_split(X_test, y_test, test_size=0.5, random_state=42)"
   ]
  },
  {
   "cell_type": "code",
   "execution_count": null,
   "metadata": {
    "colab": {
     "base_uri": "https://localhost:8080/",
     "height": 1000
    },
    "colab_type": "code",
    "id": "XwEfz6V9j_c4",
    "outputId": "59e46275-b371-48fa-9c79-6f1248fdb8e5"
   },
   "outputs": [],
   "source": [
    "X_test.columns.to_list()"
   ]
  },
  {
   "cell_type": "code",
   "execution_count": null,
   "metadata": {
    "colab": {
     "base_uri": "https://localhost:8080/",
     "height": 217
    },
    "colab_type": "code",
    "id": "PCTwwQ9bkBu5",
    "outputId": "4bebc0ce-2923-4b5c-9411-9a4458a0c147"
   },
   "outputs": [],
   "source": [
    "Categorical_columns"
   ]
  },
  {
   "cell_type": "code",
   "execution_count": null,
   "metadata": {
    "colab": {},
    "colab_type": "code",
    "id": "dFfrchaDkKYs"
   },
   "outputs": [],
   "source": [
    "col = ['user_id', 'app_code', 'os_version', 'is_4G', 'Hour_of_the_day',  'Day_Of_Week'] #0.738"
   ]
  },
  {
   "cell_type": "code",
   "execution_count": null,
   "metadata": {
    "colab": {},
    "colab_type": "code",
    "id": "CMF1xqZlkQsv"
   },
   "outputs": [],
   "source": [
    "Categorical_columns_lgbm = [ 'os_version', 'user_id', 'app_code', 'is_4G']"
   ]
  },
  {
   "cell_type": "code",
   "execution_count": null,
   "metadata": {
    "colab": {},
    "colab_type": "code",
    "id": "CM83gu6-oLa5"
   },
   "outputs": [],
   "source": [
    "col = ['user_id',\n",
    " 'app_code',\n",
    " 'os_version',\n",
    " 'is_4G',\n",
    " 'site_visit_count_last_3_hours',\n",
    " 'site_visit_count_last_6_hours',\n",
    " 'site_visit_count__last_12_hours',\n",
    " 'site_visit_count_last_1_day',\n",
    " 'site_visit_count_last_2_days',\n",
    " 'site_visit_count_last_3_days',\n",
    " 'site_visit_count_last_1_week',\n",
    " 'site_visit_count_last_1_month',\n",
    " 'category1_seen_count_last_3_hours',\n",
    " 'category1_seen_count_last_6_hours',\n",
    " 'category1_seen_count__last_12_hours',\n",
    " 'category1_seen_count_last_1_day',\n",
    " 'category1_seen_count_last_2_days',\n",
    " 'category1_seen_count_last_3_days',\n",
    " 'category1_seen_count_last_1_week',\n",
    " 'category1_seen_count_last_1_month',\n",
    " 'category2_seen_count_last_3_hours',\n",
    " 'category2_seen_count_last_6_hours',\n",
    " 'category2_seen_count__last_12_hours',\n",
    " 'category2_seen_count_last_1_day',\n",
    " 'category2_seen_count_last_2_days',\n",
    " 'category2_seen_count_last_3_days',\n",
    " 'category2_seen_count_last_1_week',\n",
    " 'category2_seen_count_last_1_month',\n",
    " 'category3_seen_count_last_3_hours',\n",
    " 'category3_seen_count_last_6_hours',\n",
    " 'category3_seen_count__last_12_hours',\n",
    " 'category3_seen_count_last_1_day',\n",
    " 'category3_seen_count_last_2_days',\n",
    " 'category3_seen_count_last_3_days',\n",
    " 'category3_seen_count_last_1_week',\n",
    " 'category3_seen_count_last_1_month',\n",
    " 'product_type_seen_count_last_3_hours',\n",
    " 'product_type_seen_count_last_6_hours',\n",
    " 'product_type_seen_count__last_12_hours',\n",
    " 'product_type_seen_count_last_1_day',\n",
    " 'product_type_seen_count_last_2_days',\n",
    " 'product_type_seen_count_last_3_days',\n",
    " 'product_type_seen_count_last_1_week',\n",
    " 'product_type_seen_count_last_1_month',\n",
    " 'product_item_seen_count_last_3_hours',\n",
    " 'product_item_seen_count_last_6_hours',\n",
    " 'product_item_seen_count__last_12_hours',\n",
    " 'product_item_seen_count_last_1_day',\n",
    " 'product_item_seen_count_last_2_days',\n",
    " 'product_item_seen_count_last_3_days',\n",
    " 'product_item_seen_count_last_1_week',\n",
    " 'product_item_seen_count_last_1_month',\n",
    " 'category1_seen_count_with_session1',\n",
    " 'category1_seen_count_with_session2',\n",
    " 'category1_seen_count_with_session3',\n",
    " 'category1_seen_count_with_session4',\n",
    " 'category1_seen_count_with_session5',\n",
    " 'category2_seen_count_with_session1',\n",
    " 'category2_seen_count_with_session2',\n",
    " 'category2_seen_count_with_session3',\n",
    " 'category2_seen_count_with_session4',\n",
    " 'category2_seen_count_with_session5',\n",
    " 'category3_seen_count_with_session1',\n",
    " 'category3_seen_count_with_session2',\n",
    " 'category3_seen_count_with_session3',\n",
    " 'category3_seen_count_with_session4',\n",
    " 'category3_seen_count_with_session5',\n",
    " 'product_type_seen_count_with_session1',\n",
    " 'product_type_seen_count_with_session2',\n",
    " 'product_type_seen_count_with_session3',\n",
    " 'product_type_seen_count_with_session4',\n",
    " 'product_type_seen_count_with_session5',\n",
    " 'item_id_seen_count_with_session1',\n",
    " 'item_id_seen_count_with_session2',\n",
    " 'item_id_seen_count_with_session3',\n",
    " 'item_id_seen_count_with_session4',\n",
    " 'item_id_seen_count_with_session5',\n",
    " 'average_price_of_product_seen_count_with_session1',\n",
    " 'average_price_of_product_seen_count_with_session2',\n",
    " 'average_price_of_product_seen_count_with_session3',\n",
    " 'average_price_of_product_seen_count_with_session4',\n",
    " 'average_price_of_product_seen_count_with_session5',\n",
    " 'device_type_seen_count_with_session1',\n",
    " 'device_type_seen_count_with_session2',\n",
    " 'device_type_seen_count_with_session3',\n",
    " 'device_type_seen_count_with_session4',\n",
    " 'device_type_seen_count_with_session5',\n",
    " 'hour_of_the_day_seen_count_with_session1',\n",
    " 'hour_of_the_day_seen_count_with_session2',\n",
    " 'hour_of_the_day_seen_count_with_session3',\n",
    " 'hour_of_the_day_seen_count_with_session4',\n",
    " 'hour_of_the_day_seen_count_with_session5',\n",
    " 'part_of_the_day_seen_count_with_session1',\n",
    " 'part_of_the_day_seen_count_with_session2',\n",
    " 'part_of_the_day_seen_count_with_session3',\n",
    " 'part_of_the_day_seen_count_with_session4',\n",
    " 'part_of_the_day_seen_count_with_session5',\n",
    " 'time_spent_surfing_each_session_with_session1',\n",
    " 'time_spent_surfing_each_session_with_session2',\n",
    " 'time_spent_surfing_each_session_with_session3',\n",
    " 'time_spent_surfing_each_session_with_session4',\n",
    " 'time_spent_surfing_each_session_with_session5',\n",
    " 'last_visited_product_item1',\n",
    "# 'last_visited_product_item2',\n",
    "# 'last_visited_product_item3',\n",
    "# 'last_visited_product_item4',\n",
    "# 'last_visited_product_item5',\n",
    "# 'last_visited_product_type1',\n",
    "# 'last_visited_product_type2',\n",
    "# 'last_visited_product_type3',\n",
    "# 'last_visited_product_type4',\n",
    "# 'last_visited_product_type5',\n",
    "# 'last_visited_product_category1_1',\n",
    "# 'last_visited_product_category1_2',\n",
    "# 'last_visited_product_category1_3',\n",
    "# 'last_visited_product_category1_4',\n",
    "# 'last_visited_product_category1_5',\n",
    "# 'last_visited_product_category2_1',\n",
    "# 'last_visited_product_category2_2',\n",
    "# 'last_visited_product_category2_3',\n",
    "# 'last_visited_product_category2_4',\n",
    "# 'last_visited_product_category2_5',\n",
    "# 'last_visited_product_category3_1',\n",
    "# 'last_visited_product_category3_2',\n",
    "# 'last_visited_product_category3_3',\n",
    "# 'last_visited_product_category3_4',\n",
    "# 'last_visited_product_category3_5',\n",
    " 'last_visited_product_price_1',\n",
    "# 'last_visited_product_price_2',\n",
    "# 'last_visited_product_price_3',\n",
    "# 'last_visited_product_price_4',\n",
    "# 'last_visited_product_price_5',\n",
    " 'Hour_of_the_day',\n",
    " #'Part_of_the_day',\n",
    " 'Day_Of_Week',\n",
    " #'Weekend',\n",
    " #'Normalized_Click_Ratio',\n",
    " #'Normalized_Click_Ratio_app0'\n",
    "      ]"
   ]
  },
  {
   "cell_type": "code",
   "execution_count": null,
   "metadata": {
    "colab": {},
    "colab_type": "code",
    "id": "MVFEVHKbH5T-"
   },
   "outputs": [],
   "source": [
    "col =['user_id',\n",
    " 'app_code',\n",
    " 'os_version',\n",
    " 'is_4G',\n",
    " 'site_visit_count_last_1_week',\n",
    " 'product_type_seen_count_last_3_days',\n",
    " 'product_type_seen_count_with_session1',\n",
    " 'item_id_seen_count_with_session1',\n",
    " 'average_price_of_product_seen_count_with_session1',\n",
    " 'hour_of_the_day_seen_count_with_session1',\n",
    " 'time_spent_surfing_each_session_with_session1',\n",
    " 'last_visited_product_price_1', 'last_visited_product_item1']                                     "
   ]
  },
  {
   "cell_type": "code",
   "execution_count": null,
   "metadata": {
    "colab": {},
    "colab_type": "code",
    "id": "UAz6i_QhoRV2"
   },
   "outputs": [],
   "source": [
    "Categorical_columns_lgbm = ['device_type_seen_count_with_session2',\n",
    " 'part_of_the_day_seen_count_with_session4',\n",
    " 'device_type_seen_count_with_session1',\n",
    " 'device_type_seen_count_with_session5',\n",
    " 'device_type_seen_count_with_session3',\n",
    " 'os_version', 'user_id',\n",
    " 'app_code', 'is_4G',\n",
    " 'part_of_the_day_seen_count_with_session3',\n",
    " 'part_of_the_day_seen_count_with_session1',\n",
    " #'Part_of_the_day',\n",
    " 'part_of_the_day_seen_count_with_session5',\n",
    " 'part_of_the_day_seen_count_with_session2',\n",
    " 'device_type_seen_count_with_session4',\n",
    " #'last_visited_product_item1',\n",
    " #'last_visited_product_item2',\n",
    " #'last_visited_product_item3',\n",
    " #'last_visited_product_item4',\n",
    " #'last_visited_product_item5',\n",
    " #'last_visited_product_type1',\n",
    " #'last_visited_product_type2',\n",
    " #'last_visited_product_type3',\n",
    " #'last_visited_product_type4',\n",
    " #'last_visited_product_type5',\n",
    " #'last_visited_product_category1_1',\n",
    " #'last_visited_product_category1_2',\n",
    " #'last_visited_product_category1_3',\n",
    " #'last_visited_product_category1_4',\n",
    " #'last_visited_product_category1_5',\n",
    "# 'last_visited_product_category2_1',\n",
    " #'last_visited_product_category2_2',\n",
    " #'last_visited_product_category2_3',\n",
    " #'last_visited_product_category2_4',\n",
    " #'last_visited_product_category2_5',\n",
    " #'last_visited_product_category3_1',\n",
    " #'last_visited_product_category3_2',\n",
    " #'last_visited_product_category3_3',\n",
    " #'last_visited_product_category3_4',\n",
    " #'last_visited_product_category3_5'\n",
    "                            ]"
   ]
  },
  {
   "cell_type": "code",
   "execution_count": null,
   "metadata": {
    "colab": {},
    "colab_type": "code",
    "id": "HABqJ3uoIF11"
   },
   "outputs": [],
   "source": [
    "Categorical_columns_lgbm = ['user_id',\n",
    " 'app_code',\n",
    " 'os_version',\n",
    " 'is_4G',]"
   ]
  },
  {
   "cell_type": "code",
   "execution_count": null,
   "metadata": {
    "colab": {
     "base_uri": "https://localhost:8080/",
     "height": 1000
    },
    "colab_type": "code",
    "id": "hqkVLbIRkTOe",
    "outputId": "c3c02804-5c88-498e-8fdf-8ba44bc22d31"
   },
   "outputs": [],
   "source": [
    "train_data = lightgbm.Dataset(X_train[col], label=y_train, categorical_feature=Categorical_columns_lgbm)\n",
    "test_data = lightgbm.Dataset(x_val[col], label=y_val)\n",
    "\n",
    "parameters = {\n",
    "    'application': 'binary',\n",
    "    'objective': 'binary',\n",
    "    'metric': 'auc',\n",
    "    'is_unbalance': 'true',\n",
    "    'boosting': 'gbdt',\n",
    "    'num_leaves': 13,\n",
    "    'feature_fraction': 0.5,\n",
    "    'bagging_fraction': 0.5,\n",
    "    'bagging_freq': 20,\n",
    "    'learning_rate': 0.05,\n",
    "    'verbose': 0,\n",
    "    'max_depth': 17,\n",
    "    'lambda': 0.05\n",
    "    #'scale_pos_weight': 25\n",
    "}\n",
    "\n",
    "model = lightgbm.train(parameters,\n",
    "                       train_data,\n",
    "                       valid_sets=test_data,\n",
    "                       num_boost_round=5000,\n",
    "                       early_stopping_rounds=100)"
   ]
  },
  {
   "cell_type": "code",
   "execution_count": null,
   "metadata": {
    "colab": {
     "base_uri": "https://localhost:8080/",
     "height": 33
    },
    "colab_type": "code",
    "id": "r-747pjFkWIr",
    "outputId": "f0782d06-c98f-497c-a62d-396e3c2671cc"
   },
   "outputs": [],
   "source": [
    "lgbm_pred = model.predict(x_val[col])\n",
    "print (metrics.roc_auc_score(y_val, lgbm_pred))"
   ]
  },
  {
   "cell_type": "code",
   "execution_count": null,
   "metadata": {
    "colab": {
     "base_uri": "https://localhost:8080/",
     "height": 33
    },
    "colab_type": "code",
    "id": "f9eYzPntknKM",
    "outputId": "c59622f8-e717-4ef0-ea38-3272650ee5e6"
   },
   "outputs": [],
   "source": [
    "lgbm_pred = model.predict(x_test[col])\n",
    "print (metrics.roc_auc_score(y_test1, lgbm_pred))"
   ]
  },
  {
   "cell_type": "code",
   "execution_count": null,
   "metadata": {
    "colab": {
     "base_uri": "https://localhost:8080/",
     "height": 234
    },
    "colab_type": "code",
    "id": "w9lhrmhBktjX",
    "outputId": "a3be6bda-0a60-4828-9198-e0a5a3fa2520"
   },
   "outputs": [],
   "source": [
    "lgbm_pred = model.predict(X_test[col])\n",
    "print (metrics.roc_auc_score(y_test, lgbm_pred))\n",
    "lgbm_pred[lgbm_pred>0.5]=1\n",
    "lgbm_pred[lgbm_pred<=0.5]=0\n",
    "print (metrics.confusion_matrix(y_test, lgbm_pred))\n",
    "print (metrics.accuracy_score(y_test, lgbm_pred))\n",
    "print (metrics.classification_report(y_test, lgbm_pred))"
   ]
  },
  {
   "cell_type": "code",
   "execution_count": null,
   "metadata": {
    "colab": {},
    "colab_type": "code",
    "id": "7v2yMuCzkyrw"
   },
   "outputs": [],
   "source": [
    "def plotImp(model, X , num = 20):\n",
    "    feature_imp = pd.DataFrame(sorted(zip(model.feature_importance(),X.columns)), \n",
    "                               columns=['Value','Feature'])\n",
    "    #plt.figure(figsize=(40, 20))\n",
    "    #sns.set(font_scale = 2)\n",
    "    sns.barplot(x=\"Value\", y=\"Feature\", data=feature_imp.sort_values(by=\"Value\", \n",
    "                                                        ascending=False)[0:num])\n",
    "    plt.title('LightGBM Features (avg over folds)')\n",
    "    #plt.tight_layout()\n",
    "    plt.show()\n",
    "    #plt.savefig('lgbm_importances-01.png')"
   ]
  },
  {
   "cell_type": "code",
   "execution_count": null,
   "metadata": {
    "colab": {
     "base_uri": "https://localhost:8080/",
     "height": 295
    },
    "colab_type": "code",
    "id": "h7wNhsxjk3G_",
    "outputId": "6542302a-70aa-4e30-9aa7-7c2d6c6bbbba"
   },
   "outputs": [],
   "source": [
    "plotImp(model,X_train,20)"
   ]
  },
  {
   "cell_type": "code",
   "execution_count": null,
   "metadata": {
    "colab": {
     "base_uri": "https://localhost:8080/",
     "height": 397
    },
    "colab_type": "code",
    "id": "ZnyDYOyOk6ew",
    "outputId": "438500f7-5365-42d4-f698-7914e4d32cb5"
   },
   "outputs": [],
   "source": [
    "from sklearn.metrics import roc_curve\n",
    "# compute true positive rate and false positive rate\n",
    "false_positive_rate, true_positive_rate, thresholds = roc_curve(y_test, model.predict(X_test))\n",
    "\n",
    "# plotting them against each other\n",
    "def plot_roc_curve(false_positive_rate, true_positive_rate, label=None):\n",
    "    plt.plot(false_positive_rate, true_positive_rate, linewidth=2, label=label)\n",
    "    plt.plot([0, 1], [0, 1], 'r', linewidth=4)\n",
    "    plt.axis([0, 1, 0, 1])\n",
    "    plt.xlabel('False Positive Rate (FPR)', fontsize=16)\n",
    "    plt.ylabel('True Positive Rate (TPR)', fontsize=16)\n",
    "\n",
    "plt.figure(figsize=(7,6))\n",
    "plot_roc_curve(false_positive_rate, true_positive_rate)\n",
    "plt.show()"
   ]
  },
  {
   "cell_type": "code",
   "execution_count": null,
   "metadata": {
    "colab": {},
    "colab_type": "code",
    "id": "eS6SzoFB9Fj1"
   },
   "outputs": [],
   "source": [
    "sub = pd.read_csv(\"/content/drive/My Drive/Hackathon/submission/sample_submission.csv\")"
   ]
  },
  {
   "cell_type": "code",
   "execution_count": null,
   "metadata": {
    "colab": {
     "base_uri": "https://localhost:8080/",
     "height": 302
    },
    "colab_type": "code",
    "id": "PC6oO5LEEtA4",
    "outputId": "120543dc-659a-460d-8e4e-fb6cf141348f"
   },
   "outputs": [],
   "source": [
    "test[Categorical_columns] = test[Categorical_columns].apply(lambda x: d[x.name].transform(x))"
   ]
  },
  {
   "cell_type": "code",
   "execution_count": null,
   "metadata": {
    "colab": {},
    "colab_type": "code",
    "id": "I9a_vARgEzt8"
   },
   "outputs": [],
   "source": [
    "sub['is_click'] = model.predict(test[col])"
   ]
  },
  {
   "cell_type": "code",
   "execution_count": null,
   "metadata": {
    "colab": {
     "base_uri": "https://localhost:8080/",
     "height": 50
    },
    "colab_type": "code",
    "id": "0HPyQr6eDuI8",
    "outputId": "e0920cb6-4ff9-4f0b-be5c-5e62b57bef2a"
   },
   "outputs": [],
   "source": [
    "model.predict(test[col])"
   ]
  },
  {
   "cell_type": "code",
   "execution_count": null,
   "metadata": {
    "colab": {},
    "colab_type": "code",
    "id": "K6cioKr4ERiI"
   },
   "outputs": [],
   "source": [
    "sub.to_csv(\"/content/drive/My Drive/Hackathon/sample_submission.csv\", index=False)"
   ]
  },
  {
   "cell_type": "code",
   "execution_count": null,
   "metadata": {
    "colab": {},
    "colab_type": "code",
    "id": "_AgziugwFE0e"
   },
   "outputs": [],
   "source": []
  }
 ],
 "metadata": {
  "accelerator": "GPU",
  "colab": {
   "collapsed_sections": [],
   "name": "Hackathon.ipynb",
   "provenance": [],
   "version": "0.3.2"
  },
  "kernelspec": {
   "display_name": "Python 3",
   "language": "python",
   "name": "python3"
  },
  "language_info": {
   "codemirror_mode": {
    "name": "ipython",
    "version": 3
   },
   "file_extension": ".py",
   "mimetype": "text/x-python",
   "name": "python",
   "nbconvert_exporter": "python",
   "pygments_lexer": "ipython3",
   "version": "3.6.5"
  }
 },
 "nbformat": 4,
 "nbformat_minor": 1
}
